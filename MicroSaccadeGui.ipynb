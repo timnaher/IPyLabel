{
 "cells": [
  {
   "cell_type": "code",
   "execution_count": 3,
   "id": "be8154a2-d19b-4931-ab0c-58a1bc024fb5",
   "metadata": {},
   "outputs": [],
   "source": [
    "from bqplot import pyplot as plt\n",
    "import bqplot as bq\n",
    "import ipywidgets as widgets\n",
    "from src.analysis import get_sac_onsets_offsets\n",
    "from src.analysis import predict_possible_saccades\n",
    "from src.imports import append_list_as_row\n",
    "from src.imports import check_results_file\n",
    "from src.imports import read_eye_data_mat\n",
    "import math\n",
    "import matplotlib\n",
    "import numpy as np\n",
    "from numpy import matlib\n",
    "import mat73"
   ]
  },
  {
   "cell_type": "code",
   "execution_count": 42,
   "id": "69f8583c-04c0-4af2-9e7e-e0f82b8e58de",
   "metadata": {},
   "outputs": [
    {
     "data": {
      "application/vnd.jupyter.widget-view+json": {
       "model_id": "d9cc2dd7907142f3bf0268e68cc942d8",
       "version_major": 2,
       "version_minor": 0
      },
      "text/plain": [
       "VBox(children=(HBox(children=(Button(description='Previous trial', style=ButtonStyle()), Button(description='N…"
      ]
     },
     "metadata": {},
     "output_type": "display_data"
    }
   ],
   "source": [
    "# init some values\n",
    "iTrial   = 0\n",
    "curr_sac = 0\n",
    "this_trial_save_flag = False\n",
    "\n",
    "# check if csv file is present in the /results folder. if not, make it\n",
    "check_results_file()\n",
    "\n",
    "# get the data\n",
    "x_matrix,y_matrix  = read_eye_data_mat() # these are trials by timepoints\n",
    "trialtime          = len(x_matrix[iTrial])\n",
    "\n",
    "# get the predicted saccade onsets and offsets\n",
    "onsets   = np.array([])\n",
    "offsets  = np.array([])\n",
    "\n",
    "\n",
    "## functions are defined here ##\n",
    "def new_trial(*ignore):\n",
    "    global iTrial, trialtime\n",
    "    # get the new length of the trial\n",
    "    trialtime = len(x_matrix[iTrial])\n",
    "\n",
    "    \n",
    "    Line_eye_x.y =  x_matrix[iTrial] #- np.mean(x_matrix[ iTrial])\n",
    "    Line_eye_y.y =  y_matrix[iTrial] #- np.mean(y_matrix[ iTrial])\n",
    "    Line_eye_x.x =  np.arange(trialtime)\n",
    "    Line_eye_y.x =  np.arange(trialtime)\n",
    "    x_ax.scale.max =  trialtime\n",
    "    \n",
    "    y_ax.scale.min =  min([min(x_matrix[iTrial]),min(y_matrix[iTrial])])\n",
    "    y_ax.scale.max =  max([max(x_matrix[iTrial]),max(y_matrix[iTrial])])\n",
    "\n",
    "\n",
    "def next_trial(obj):\n",
    "    global iTrial\n",
    "    iTrial += 1\n",
    "    new_trial()\n",
    "    update()\n",
    "\n",
    "    \n",
    "def previous_trial(obj):\n",
    "    global iTrial\n",
    "    iTrial -= 1\n",
    "    new_trial()\n",
    "    update()\n",
    "\n",
    "## Buttons and stuff\n",
    "# trial buttons\n",
    "next_trial_button = widgets.Button(description='Next trial',disabled=False,button_style='') \n",
    "next_trial_button.on_click(next_trial)\n",
    "previous_trial_button = widgets.Button(description='Previous trial',disabled=False,button_style='') \n",
    "previous_trial_button.on_click(previous_trial)\n",
    "    \n",
    "    \n",
    "# Plotting Stuff\n",
    "animation_time = 200 # in ms\n",
    "\n",
    "y_ax        = bq.Axis(label=\"x/y position (dva)\",scale=bq.LinearScale(),orientation=\"vertical\")\n",
    "x_ax        = bq.Axis(label=\"time (ms)\",scale=bq.LinearScale(min=1),orientation=\"horizontal\")\n",
    "\n",
    "Line_eye_x  = plt.plot(x=np.arange(trialtime),scales={'x':bq.LinearScale(),'y':bq.LinearScale()},colors = ['red'])\n",
    "Line_eye_y  = plt.plot(x=np.arange(trialtime),scales={'x':bq.LinearScale(),'y':bq.LinearScale()},colors = ['green'])\n",
    "\n",
    "\n",
    "eyetrace_fig = bq.Figure(animation_duration=animation_time,layout=widgets.Layout( width='auto'),axes=[x_ax,y_ax],\n",
    "    marks=[Line_eye_x,Line_eye_y],fig_margin=dict(top=25,bottom=50,left=50,right=25))\n",
    "\n",
    "\n",
    "button_box    = widgets.HBox(children=[previous_trial_button,next_trial_button],layout=widgets.Layout(display='flex',flex_flow='row',align_items='center',width='100%',justify_content='space-around'))\n",
    "\n",
    "\n",
    "app = widgets.VBox(children=[button_box,eyetrace_fig],layout=widgets.Layout(border=\"solid 2px gray\",width=\"1500px\"))\n",
    "\n",
    "# run app\n",
    "new_trial()\n",
    "app\n",
    "\n"
   ]
  },
  {
   "cell_type": "code",
   "execution_count": null,
   "id": "6a48e9ad-fd4b-4cc3-bfe9-d51e9eb6d65c",
   "metadata": {},
   "outputs": [],
   "source": []
  }
 ],
 "metadata": {
  "kernelspec": {
   "display_name": "Python 3 (ipykernel)",
   "language": "python",
   "name": "python3"
  },
  "language_info": {
   "codemirror_mode": {
    "name": "ipython",
    "version": 3
   },
   "file_extension": ".py",
   "mimetype": "text/x-python",
   "name": "python",
   "nbconvert_exporter": "python",
   "pygments_lexer": "ipython3",
   "version": "3.9.12"
  }
 },
 "nbformat": 4,
 "nbformat_minor": 5
}
