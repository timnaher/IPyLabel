{
 "cells": [
  {
   "cell_type": "code",
   "execution_count": 265,
   "id": "51164f56-5985-45c1-89e0-885fa4b8e2b7",
   "metadata": {
    "tags": []
   },
   "outputs": [
    {
     "data": {
      "application/vnd.jupyter.widget-view+json": {
       "model_id": "6a98e9be624a43b5a09cc012a3d93644",
       "version_major": 2,
       "version_minor": 0
      },
      "text/plain": [
       "VBox(children=(HBox(children=(Button(description='Previous trial', icon='badger-honey', style=ButtonStyle(), t…"
      ]
     },
     "metadata": {},
     "output_type": "display_data"
    }
   ],
   "source": [
    "from bqplot import pyplot as plt\n",
    "import bqplot as bq\n",
    "import ipywidgets as widgets\n",
    "from src.imports import read_eye_data\n",
    "from src.analysis import predict_possible_saccades\n",
    "import src.plots as plots\n",
    "import matplotlib\n",
    "import numpy as np\n",
    "\n",
    "# init some values\n",
    "iTrial = -1\n",
    "\n",
    "# get the data\n",
    "x_matrix,y_matrix  = read_eye_data()\n",
    "ntrials, trialtime = np.shape(x_matrix)\n",
    "\n",
    "# predict possible saccades based on old weights\n",
    "total_predictions = predict_possible_saccades(x_matrix,y_matrix,sampfreq=1000,min_sacc_dur=6,min_sacc_dist = 10)\n",
    "\n",
    "current_trial_text = widgets.Text(value=\"{}\".format(iTrial + 1),placeholder='Type something',description='Current trial:',\n",
    "    disabled=False)\n",
    "\n",
    "\n",
    "def next_trial(obj):\n",
    "    global iTrial\n",
    "    iTrial += 1\n",
    "    update()\n",
    "    \n",
    "def previous_trial(obj):\n",
    "    global iTrial\n",
    "    iTrial -= 1\n",
    "    update()\n",
    "    \n",
    "def update():\n",
    "    global iTrial\n",
    "    Line_eye_x.y =  x_matrix[iTrial,:]\n",
    "    Line_eye_y.y = y_matrix[iTrial,:]\n",
    "    Line_binary_prediction.y = total_predictions[ iTrial, : ]\n",
    "    current_trial_text.value =  \"{}\".format(iTrial + 1) # this gives the current trial that we are working on\n",
    "\n",
    "next_trial_button = widgets.Button(\n",
    "    description='Next trial',\n",
    "    disabled=False,\n",
    "    button_style='', # 'success', 'info', 'warning', 'danger' or ''\n",
    "    tooltip='Click me',\n",
    "    icon='badger-honey') # (FontAwesome names without the `fa-` prefix)\n",
    "next_trial_button.on_click(next_trial)\n",
    "\n",
    "previous_trial_button = widgets.Button(\n",
    "    description='Previous trial',\n",
    "    disabled=False,\n",
    "    button_style='', # 'success', 'info', 'warning', 'danger' or ''\n",
    "    tooltip='Click me',\n",
    "    icon='badger-honey') # (FontAwesome names without the `fa-` prefix)\n",
    "previous_trial_button.on_click(previous_trial)\n",
    "\n",
    "    \n",
    "###################################\n",
    "### PLOTTING STUFF HAPPENS HERE ###\n",
    "###################################\n",
    "\n",
    "x_sc = bq.LinearScale()\n",
    "y_sc = bq.LinearScale()\n",
    "\n",
    "y_ax = bq.Axis(label=\"x/y position (dva)\",scale=y_sc,orientation=\"vertical\")\n",
    "x_ax = bq.Axis(label=\"time (ms)\",scale=x_sc,orientation=\"horizontal\")\n",
    "x_predict_ax =  bq.Axis(label=\"time (ms)\",scale=x_sc,orientation=\"horizontal\")\n",
    "\n",
    "y_predict_ax =  bq.Axis(label=\"Prediction\",scale=y_sc,orientation=\"vertical\",min=0,max=1)\n",
    "\n",
    "x_zoom_ax = bq.Axis(label=\"time (ms)\",scale=x_sc,orientation=\"horizontal\")\n",
    "y_zoom_ax = bq.Axis(label=\"prediction\",scale=y_sc,orientation=\"vertical\")\n",
    "\n",
    "Line_eye_x = plt.plot(x=np.arange(trialtime),scales={'x':x_sc,'y':y_sc},colors = ['red'])\n",
    "Line_eye_y = plt.plot(x=np.arange(trialtime),scales={'x':x_sc,'y':y_sc},colors = ['blue'])\n",
    "\n",
    "Line_binary_prediction = plt.plot(x=np.arange(trialtime),scales={'x':x_sc,'y':y_sc},colors = ['black'])\n",
    "\n",
    "Line_zoom_x = plt.plot(scales={'x':x_sc,'y':y_sc},colors = ['red'])\n",
    "Line_zoom_y = plt.plot(scales={'x':x_sc,'y':y_sc},colors = ['blue'])\n",
    "\n",
    "\n",
    "def update_trace_zoom(*ignore):\n",
    "    #if intsel.selected is not None: #and len(intsel.selected) == 2:\n",
    "    xmin, xmax = intsel.selected\n",
    "    Line_zoom_x.y  = x_matrix[ iTrial, int(np.round(xmin)) : int(np.round(xmax)) ]\n",
    "    Line_zoom_x.x  = np.arange( len(total_predictions[ iTrial, int(np.round(xmin)) : int(np.round(xmax)) ]) )  \n",
    "    Line_zoom_y.y  = y_matrix[ iTrial, int(np.round(xmin)) : int(np.round(xmax)) ]\n",
    "    Line_zoom_y.x  = np.arange( len(total_predictions[ iTrial, int(np.round(xmin)) : int(np.round(xmax)) ]) )\n",
    "        \n",
    "intsel = bq.interacts.FastIntervalSelector(scale=x_sc,marks=[Line_eye_x])\n",
    "intsel.observe(update_trace_zoom,names=['selected'])\n",
    "\n",
    "\n",
    "eyetrace_fig = bq.Figure(layout=widgets.Layout(width='800px', height='300px'),axes=[x_ax,y_ax],\n",
    "    marks=[Line_eye_x,Line_eye_y],fig_margin=dict(top=50,bottom=50,left=50,right=50),interaction=intsel)\n",
    "\n",
    "prediction_fig = bq.Figure(layout=widgets.Layout(width='800px', height='200px'),axes=[x_predict_ax,y_predict_ax],\n",
    "    marks=[Line_binary_prediction],fig_margin=dict(top=50,bottom=50,left=50,right=50))\n",
    "\n",
    "zoom_fig = bq.Figure(layout=widgets.Layout(width='300px', height='200px'),axes=[x_zoom_ax,y_zoom_ax],\n",
    "    marks=[Line_zoom_x,Line_zoom_y],fig_margin=dict(top=50,bottom=50,left=50,right=50))\n",
    "\n",
    "\n",
    "button_box = widgets.HBox(children= [previous_trial_button,next_trial_button,current_trial_text],\n",
    "                         layout=widgets.Layout(border=\" solid 1px gray\",width=\"800px\"))\n",
    "\n",
    "\n",
    "app = widgets.VBox(children=[button_box,eyetrace_fig,prediction_fig,zoom_fig],layout=widgets.Layout(border=\"solid 2px gray\",width=\"800px\"))\n",
    "app"
   ]
  },
  {
   "cell_type": "code",
   "execution_count": 261,
   "id": "797c68cd-53a3-483b-a0fc-637a4e632c99",
   "metadata": {
    "tags": []
   },
   "outputs": [
    {
     "name": "stdout",
     "output_type": "stream",
     "text": [
      "Figure(axes=[Axis(label='time (ms)', scale=LinearScale(), side='bottom'), Axis(label='prediction', orientation='vertical', scale=LinearScale(), side='left')], fig_margin={'top': 50, 'bottom': 50, 'left': 50, 'right': 50}, layout=Layout(height='200px', width='300px'), marks=[Lines(colors=['red'], interactions={'hover': 'tooltip'}, scales={'x': LinearScale(), 'y': LinearScale()}, scales_metadata={'x': {'orientation': 'horizontal', 'dimension': 'x'}, 'y': {'orientation': 'vertical', 'dimension': 'y'}, 'color': {'dimension': 'color'}}, tooltip_style={'opacity': 0.9}), Lines(colors=['blue'], interactions={'hover': 'tooltip'}, scales={'x': LinearScale(), 'y': LinearScale()}, scales_metadata={'x': {'orientation': 'horizontal', 'dimension': 'x'}, 'y': {'orientation': 'vertical', 'dimension': 'y'}, 'color': {'dimension': 'color'}}, tooltip_style={'opacity': 0.9})], scale_x=LinearScale(allow_padding=False, max=1.0, min=0.0), scale_y=LinearScale(allow_padding=False, max=1.0, min=0.0))\n"
     ]
    }
   ],
   "source": [
    "print(zoom_fig)"
   ]
  },
  {
   "cell_type": "code",
   "execution_count": null,
   "id": "e78ce28a-f959-4781-84ac-067fd265f1d7",
   "metadata": {},
   "outputs": [],
   "source": []
  },
  {
   "cell_type": "code",
   "execution_count": null,
   "id": "1c2a8044-54bf-41bc-9a89-6533447bd036",
   "metadata": {
    "tags": []
   },
   "outputs": [],
   "source": [
    "\n",
    "\n"
   ]
  }
 ],
 "metadata": {
  "kernelspec": {
   "display_name": "Python 3 (ipykernel)",
   "language": "python",
   "name": "python3"
  },
  "language_info": {
   "codemirror_mode": {
    "name": "ipython",
    "version": 3
   },
   "file_extension": ".py",
   "mimetype": "text/x-python",
   "name": "python",
   "nbconvert_exporter": "python",
   "pygments_lexer": "ipython3",
   "version": "3.9.12"
  },
  "toc-showcode": true
 },
 "nbformat": 4,
 "nbformat_minor": 5
}
